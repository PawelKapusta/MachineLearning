{
 "cells": [
  {
   "cell_type": "markdown",
   "metadata": {},
   "source": [
    "# Ensemble methods. Exercises\n",
    "\n",
    "\n",
    "In this section we have only two exercise:\n",
    "\n",
    "1. Find the best three classifier in the stacking method using the classifiers from scikit-learn package.\n",
    "\n",
    "2. Build arcing arc-x4 method. "
   ]
  },
  {
   "cell_type": "code",
   "execution_count": 99,
   "metadata": {},
   "outputs": [],
   "source": [
    "data_set=None\n",
    "labels=None\n",
    "test_data_set=None\n",
    "test_labels=None\n",
    "unique_labels=None\n",
    "%store -r data_set\n",
    "%store -r labels\n",
    "%store -r test_data_set\n",
    "%store -r test_labels\n",
    "%store -r unique_labels"
   ]
  },
  {
   "cell_type": "markdown",
   "metadata": {},
   "source": [
    "## Exercise 1: Find the best three classifier in the stacking method\n",
    "\n",
    "Please use the following classifiers:\n",
    "\n",
    "* Linear regression,\n",
    "* Nearest Neighbors,\n",
    "* Linear SVM,\n",
    "* Decision Tree,\n",
    "* Naive Bayes,\n",
    "* QDA."
   ]
  },
  {
   "cell_type": "code",
   "execution_count": 100,
   "metadata": {},
   "outputs": [],
   "source": [
    "import numpy as np\n",
    "from sklearn.metrics import accuracy_score\n",
    "\n",
    "from sklearn.linear_model import LinearRegression\n",
    "from sklearn.neighbors import KNeighborsClassifier\n",
    "from sklearn.svm import SVC\n",
    "from sklearn.tree import DecisionTreeClassifier\n",
    "from sklearn.naive_bayes import GaussianNB\n",
    "from sklearn.discriminant_analysis import QuadraticDiscriminantAnalysis"
   ]
  },
  {
   "cell_type": "code",
   "execution_count": 101,
   "metadata": {},
   "outputs": [],
   "source": [
    "def build_classifiers():\n",
    "    classifiers = [classifier() for classifier in  [ LinearRegression, KNeighborsClassifier, SVC, DecisionTreeClassifier, GaussianNB, QuadraticDiscriminantAnalysis, ]]\n",
    "    for classifier in classifiers:\n",
    "        classifier.fit(data_set, labels)\n",
    "    return classifiers # and here"
   ]
  },
  {
   "cell_type": "code",
   "execution_count": 102,
   "metadata": {},
   "outputs": [],
   "source": [
    "def build_stacked_classifier(classifiers):\n",
    "    output = []\n",
    "    for classifier in classifiers:\n",
    "        output.append(classifier.predict(data_set))\n",
    "    output = np.array(output).reshape((130,3))\n",
    "    \n",
    "    # stacked classifier part:\n",
    "    stacked_classifier = DecisionTreeClassifier() # set here\n",
    "    stacked_classifier.fit(output.reshape((130,3)), labels.reshape((130,)))\n",
    "    test_set = []\n",
    "    for classifier in classifiers:\n",
    "        test_set.append(classifier.predict(test_data_set))\n",
    "    test_set = np.array(test_set).reshape((len(test_set[0]),3))\n",
    "    predicted = stacked_classifier.predict(test_set)\n",
    "    return predicted"
   ]
  },
  {
   "cell_type": "code",
   "execution_count": 103,
   "metadata": {},
   "outputs": [
    {
     "name": "stdout",
     "output_type": "stream",
     "text": [
      "1)\t0.95 \t->\t DecisionTreeClassifier        \t>\tKNeighborsClassifier          \t>\tQuadraticDiscriminantAnalysis \n",
      "2)\t0.90 \t->\t KNeighborsClassifier          \t>\tDecisionTreeClassifier        \t>\tQuadraticDiscriminantAnalysis \n",
      "3)\t0.90 \t->\t KNeighborsClassifier          \t>\tQuadraticDiscriminantAnalysis \t>\tDecisionTreeClassifier        \n",
      "4)\t0.90 \t->\t GaussianNB                    \t>\tKNeighborsClassifier          \t>\tDecisionTreeClassifier        \n",
      "5)\t0.90 \t->\t GaussianNB                    \t>\tKNeighborsClassifier          \t>\tQuadraticDiscriminantAnalysis \n",
      "6)\t0.90 \t->\t QuadraticDiscriminantAnalysis \t>\tKNeighborsClassifier          \t>\tDecisionTreeClassifier        \n",
      "7)\t0.85 \t->\t KNeighborsClassifier          \t>\tSVC                           \t>\tDecisionTreeClassifier        \n",
      "8)\t0.85 \t->\t KNeighborsClassifier          \t>\tSVC                           \t>\tGaussianNB                    \n",
      "9)\t0.85 \t->\t KNeighborsClassifier          \t>\tSVC                           \t>\tQuadraticDiscriminantAnalysis \n",
      "10)\t0.85 \t->\t KNeighborsClassifier          \t>\tGaussianNB                    \t>\tDecisionTreeClassifier        \n"
     ]
    }
   ],
   "source": [
    "from operator import itemgetter\n",
    "from itertools import permutations\n",
    "\n",
    "classifiers = build_classifiers()\n",
    "returned = []\n",
    "for permutation in permutations(classifiers, r=3):\n",
    "    predicted = build_stacked_classifier(permutation)\n",
    "    accuracy = accuracy_score(test_labels, predicted)\n",
    "    returned.append((accuracy, '\\t>\\t'.join([f'{str(x)[:-2]:30}' for x in permutation])))\n",
    "returned.sort(key=itemgetter(0), reverse=True)\n",
    "for i, max_res in enumerate(returned[:10]):\n",
    "    print(f'{i+1})\\t{max_res[0]:1.2f} \\t->\\t {max_res[1]}')"
   ]
  },
  {
   "cell_type": "markdown",
   "metadata": {},
   "source": [
    "## Exercise 2: \n",
    "\n",
    "Use the boosting method and change the code to fullfilt the following requirements:\n",
    "\n",
    "* the weights should be calculated as:\n",
    "$w_{n}^{(t+1)}=\\frac{1+ I(y_{n}\\neq h_{t}(x_{n})}{\\sum_{i=1}^{N}1+I(y_{n}\\neq h_{t}(x_{n})}$,\n",
    "* the prediction is done with a voting method."
   ]
  },
  {
   "cell_type": "code",
   "execution_count": 104,
   "metadata": {},
   "outputs": [],
   "source": [
    "import numpy as np\n",
    "from sklearn.tree import DecisionTreeClassifier\n",
    "\n",
    "# prepare data set\n",
    "\n",
    "def generate_data(sample_number, feature_number, label_number):\n",
    "    data_set = np.random.random_sample((sample_number, feature_number))\n",
    "    labels = np.random.choice(label_number, sample_number)\n",
    "    return data_set, labels\n",
    "\n",
    "labels = 2\n",
    "dimension = 2\n",
    "test_set_size = 1000\n",
    "train_set_size = 5000\n",
    "train_set, train_labels = generate_data(train_set_size, dimension, labels)\n",
    "test_set, test_labels = generate_data(test_set_size, dimension, labels)\n",
    "\n",
    "# init weights\n",
    "number_of_iterations = 10\n",
    "weights = np.ones((test_set_size,)) / test_set_size\n",
    "\n",
    "\n",
    "def train_model(classifier, weights):\n",
    "    return classifier.fit(X=test_set, y=test_labels, sample_weight=weights)\n",
    "\n",
    "def calculate_error(model):\n",
    "    predicted = model.predict(test_set)\n",
    "    I=calculate_accuracy_vector(predicted, test_labels)\n",
    "    Z=np.sum(I)\n",
    "    return (1+Z)/1.0\n",
    "\n",
    "def calculate_accuracy_vector(predicted, test_labels):\n",
    "    returned = []\n",
    "    for index in range(len(predicted)):\n",
    "        if predicted[index] == test_labels[index]:\n",
    "            returned.append(0)\n",
    "        else:\n",
    "            returned.append(1)\n",
    "    return returned"
   ]
  },
  {
   "cell_type": "markdown",
   "metadata": {},
   "source": [
    "Fill the two functions below:"
   ]
  },
  {
   "cell_type": "code",
   "execution_count": 105,
   "metadata": {},
   "outputs": [],
   "source": [
    "def set_new_weights(model):\n",
    "    result = np.array(calculate_accuracy_vector(model.predict(test_set), test_labels))\n",
    "    return (result + 1) / result.sum()"
   ]
  },
  {
   "cell_type": "markdown",
   "metadata": {},
   "source": [
    "Train the classifier with the code below:"
   ]
  },
  {
   "cell_type": "code",
   "execution_count": 106,
   "metadata": {},
   "outputs": [
    {
     "name": "stdout",
     "output_type": "stream",
     "text": [
      "[0.00196078 0.00196078 0.00392157 0.00196078 0.00196078 0.00392157\n",
      " 0.00196078 0.00392157 0.00196078 0.00392157 0.00196078 0.00196078\n",
      " 0.00392157 0.00392157 0.00392157 0.00392157 0.00392157 0.00392157\n",
      " 0.00196078 0.00196078 0.00392157 0.00196078 0.00392157 0.00392157\n",
      " 0.00392157 0.00196078 0.00196078 0.00196078 0.00196078 0.00196078\n",
      " 0.00196078 0.00392157 0.00392157 0.00196078 0.00392157 0.00196078\n",
      " 0.00196078 0.00196078 0.00196078 0.00392157 0.00392157 0.00196078\n",
      " 0.00392157 0.00196078 0.00392157 0.00196078 0.00196078 0.00392157\n",
      " 0.00392157 0.00392157 0.00392157 0.00392157 0.00392157 0.00196078\n",
      " 0.00196078 0.00196078 0.00196078 0.00196078 0.00392157 0.00196078\n",
      " 0.00392157 0.00392157 0.00196078 0.00392157 0.00196078 0.00392157\n",
      " 0.00392157 0.00392157 0.00196078 0.00196078 0.00196078 0.00196078\n",
      " 0.00392157 0.00196078 0.00392157 0.00392157 0.00392157 0.00196078\n",
      " 0.00196078 0.00196078 0.00196078 0.00392157 0.00196078 0.00392157\n",
      " 0.00196078 0.00392157 0.00392157 0.00392157 0.00196078 0.00196078\n",
      " 0.00392157 0.00392157 0.00196078 0.00392157 0.00392157 0.00392157\n",
      " 0.00392157 0.00196078 0.00392157 0.00196078 0.00392157 0.00196078\n",
      " 0.00196078 0.00392157 0.00392157 0.00196078 0.00392157 0.00392157\n",
      " 0.00196078 0.00196078 0.00392157 0.00196078 0.00196078 0.00196078\n",
      " 0.00392157 0.00196078 0.00196078 0.00196078 0.00392157 0.00392157\n",
      " 0.00196078 0.00392157 0.00196078 0.00392157 0.00196078 0.00196078\n",
      " 0.00392157 0.00196078 0.00392157 0.00196078 0.00392157 0.00196078\n",
      " 0.00196078 0.00392157 0.00392157 0.00392157 0.00392157 0.00196078\n",
      " 0.00196078 0.00196078 0.00196078 0.00392157 0.00196078 0.00392157\n",
      " 0.00196078 0.00196078 0.00392157 0.00392157 0.00392157 0.00392157\n",
      " 0.00392157 0.00196078 0.00196078 0.00392157 0.00392157 0.00196078\n",
      " 0.00196078 0.00392157 0.00196078 0.00392157 0.00196078 0.00392157\n",
      " 0.00196078 0.00196078 0.00392157 0.00392157 0.00196078 0.00196078\n",
      " 0.00196078 0.00392157 0.00196078 0.00392157 0.00392157 0.00196078\n",
      " 0.00392157 0.00196078 0.00392157 0.00196078 0.00392157 0.00392157\n",
      " 0.00196078 0.00196078 0.00196078 0.00392157 0.00196078 0.00392157\n",
      " 0.00196078 0.00392157 0.00392157 0.00392157 0.00196078 0.00392157\n",
      " 0.00392157 0.00196078 0.00392157 0.00392157 0.00392157 0.00392157\n",
      " 0.00196078 0.00392157 0.00196078 0.00196078 0.00392157 0.00196078\n",
      " 0.00392157 0.00392157 0.00392157 0.00392157 0.00392157 0.00196078\n",
      " 0.00392157 0.00196078 0.00196078 0.00196078 0.00392157 0.00196078\n",
      " 0.00196078 0.00392157 0.00392157 0.00392157 0.00392157 0.00196078\n",
      " 0.00392157 0.00196078 0.00196078 0.00392157 0.00392157 0.00196078\n",
      " 0.00196078 0.00196078 0.00392157 0.00392157 0.00392157 0.00196078\n",
      " 0.00392157 0.00392157 0.00196078 0.00392157 0.00196078 0.00392157\n",
      " 0.00196078 0.00392157 0.00392157 0.00392157 0.00196078 0.00196078\n",
      " 0.00392157 0.00196078 0.00196078 0.00196078 0.00196078 0.00196078\n",
      " 0.00196078 0.00392157 0.00392157 0.00196078 0.00196078 0.00392157\n",
      " 0.00196078 0.00392157 0.00392157 0.00392157 0.00392157 0.00392157\n",
      " 0.00392157 0.00392157 0.00392157 0.00392157 0.00392157 0.00196078\n",
      " 0.00392157 0.00392157 0.00392157 0.00392157 0.00392157 0.00392157\n",
      " 0.00392157 0.00196078 0.00196078 0.00392157 0.00196078 0.00196078\n",
      " 0.00196078 0.00392157 0.00392157 0.00392157 0.00196078 0.00196078\n",
      " 0.00196078 0.00196078 0.00392157 0.00196078 0.00392157 0.00196078\n",
      " 0.00392157 0.00196078 0.00392157 0.00392157 0.00196078 0.00196078\n",
      " 0.00392157 0.00196078 0.00392157 0.00392157 0.00392157 0.00392157\n",
      " 0.00196078 0.00392157 0.00196078 0.00392157 0.00392157 0.00196078\n",
      " 0.00196078 0.00392157 0.00196078 0.00392157 0.00196078 0.00196078\n",
      " 0.00196078 0.00392157 0.00196078 0.00392157 0.00196078 0.00392157\n",
      " 0.00196078 0.00196078 0.00392157 0.00392157 0.00392157 0.00392157\n",
      " 0.00196078 0.00392157 0.00196078 0.00196078 0.00392157 0.00392157\n",
      " 0.00196078 0.00196078 0.00196078 0.00196078 0.00196078 0.00196078\n",
      " 0.00392157 0.00392157 0.00392157 0.00392157 0.00196078 0.00196078\n",
      " 0.00392157 0.00392157 0.00196078 0.00392157 0.00196078 0.00392157\n",
      " 0.00392157 0.00196078 0.00392157 0.00196078 0.00392157 0.00196078\n",
      " 0.00392157 0.00196078 0.00392157 0.00196078 0.00196078 0.00392157\n",
      " 0.00392157 0.00392157 0.00392157 0.00392157 0.00196078 0.00196078\n",
      " 0.00196078 0.00392157 0.00392157 0.00196078 0.00392157 0.00392157\n",
      " 0.00392157 0.00196078 0.00392157 0.00392157 0.00392157 0.00392157\n",
      " 0.00196078 0.00196078 0.00196078 0.00196078 0.00196078 0.00196078\n",
      " 0.00392157 0.00392157 0.00392157 0.00196078 0.00196078 0.00196078\n",
      " 0.00196078 0.00196078 0.00392157 0.00196078 0.00392157 0.00392157\n",
      " 0.00392157 0.00196078 0.00392157 0.00196078 0.00196078 0.00392157\n",
      " 0.00196078 0.00392157 0.00392157 0.00392157 0.00196078 0.00392157\n",
      " 0.00196078 0.00196078 0.00196078 0.00392157 0.00196078 0.00196078\n",
      " 0.00392157 0.00392157 0.00196078 0.00196078 0.00196078 0.00196078\n",
      " 0.00392157 0.00392157 0.00392157 0.00392157 0.00196078 0.00196078\n",
      " 0.00392157 0.00196078 0.00392157 0.00196078 0.00392157 0.00196078\n",
      " 0.00392157 0.00196078 0.00392157 0.00392157 0.00196078 0.00196078\n",
      " 0.00196078 0.00196078 0.00392157 0.00392157 0.00196078 0.00392157\n",
      " 0.00196078 0.00196078 0.00392157 0.00196078 0.00392157 0.00392157\n",
      " 0.00196078 0.00196078 0.00196078 0.00196078 0.00392157 0.00196078\n",
      " 0.00196078 0.00196078 0.00392157 0.00392157 0.00196078 0.00392157\n",
      " 0.00392157 0.00392157 0.00196078 0.00196078 0.00392157 0.00196078\n",
      " 0.00196078 0.00392157 0.00196078 0.00392157 0.00392157 0.00392157\n",
      " 0.00392157 0.00392157 0.00392157 0.00392157 0.00196078 0.00392157\n",
      " 0.00392157 0.00392157 0.00196078 0.00196078 0.00196078 0.00196078\n",
      " 0.00196078 0.00392157 0.00196078 0.00392157 0.00196078 0.00196078\n",
      " 0.00196078 0.00392157 0.00392157 0.00196078 0.00392157 0.00392157\n",
      " 0.00392157 0.00392157 0.00196078 0.00196078 0.00196078 0.00392157\n",
      " 0.00392157 0.00196078 0.00196078 0.00196078 0.00196078 0.00392157\n",
      " 0.00196078 0.00392157 0.00196078 0.00392157 0.00392157 0.00196078\n",
      " 0.00392157 0.00392157 0.00196078 0.00196078 0.00392157 0.00392157\n",
      " 0.00392157 0.00196078 0.00196078 0.00392157 0.00196078 0.00392157\n",
      " 0.00392157 0.00196078 0.00392157 0.00392157 0.00196078 0.00392157\n",
      " 0.00392157 0.00392157 0.00392157 0.00196078 0.00196078 0.00392157\n",
      " 0.00392157 0.00392157 0.00392157 0.00196078 0.00196078 0.00392157\n",
      " 0.00392157 0.00392157 0.00196078 0.00196078 0.00196078 0.00392157\n",
      " 0.00392157 0.00196078 0.00196078 0.00392157 0.00392157 0.00392157\n",
      " 0.00392157 0.00196078 0.00392157 0.00392157 0.00196078 0.00392157\n",
      " 0.00392157 0.00392157 0.00392157 0.00392157 0.00392157 0.00196078\n",
      " 0.00196078 0.00196078 0.00392157 0.00392157 0.00196078 0.00196078\n",
      " 0.00392157 0.00196078 0.00392157 0.00196078 0.00392157 0.00392157\n",
      " 0.00392157 0.00196078 0.00392157 0.00196078 0.00392157 0.00196078\n",
      " 0.00392157 0.00196078 0.00196078 0.00196078 0.00392157 0.00392157\n",
      " 0.00392157 0.00196078 0.00196078 0.00392157 0.00196078 0.00196078\n",
      " 0.00392157 0.00392157 0.00392157 0.00392157 0.00392157 0.00196078\n",
      " 0.00392157 0.00196078 0.00392157 0.00196078 0.00392157 0.00392157\n",
      " 0.00392157 0.00392157 0.00392157 0.00196078 0.00392157 0.00392157\n",
      " 0.00392157 0.00392157 0.00392157 0.00196078 0.00392157 0.00196078\n",
      " 0.00392157 0.00196078 0.00196078 0.00196078 0.00196078 0.00196078\n",
      " 0.00392157 0.00196078 0.00392157 0.00392157 0.00392157 0.00196078\n",
      " 0.00196078 0.00196078 0.00196078 0.00196078 0.00392157 0.00392157\n",
      " 0.00392157 0.00392157 0.00196078 0.00196078 0.00196078 0.00196078\n",
      " 0.00392157 0.00196078 0.00392157 0.00196078 0.00392157 0.00392157\n",
      " 0.00392157 0.00392157 0.00196078 0.00196078 0.00196078 0.00392157\n",
      " 0.00196078 0.00392157 0.00392157 0.00196078 0.00392157 0.00196078\n",
      " 0.00196078 0.00196078 0.00196078 0.00196078 0.00196078 0.00196078\n",
      " 0.00196078 0.00392157 0.00196078 0.00196078 0.00196078 0.00196078\n",
      " 0.00196078 0.00392157 0.00392157 0.00392157 0.00196078 0.00196078\n",
      " 0.00392157 0.00392157 0.00392157 0.00196078 0.00196078 0.00392157\n",
      " 0.00196078 0.00196078 0.00392157 0.00196078 0.00196078 0.00196078\n",
      " 0.00196078 0.00196078 0.00196078 0.00392157 0.00392157 0.00196078\n",
      " 0.00196078 0.00196078 0.00392157 0.00196078 0.00196078 0.00392157\n",
      " 0.00392157 0.00196078 0.00392157 0.00392157 0.00392157 0.00392157\n",
      " 0.00392157 0.00196078 0.00392157 0.00196078 0.00196078 0.00196078\n",
      " 0.00196078 0.00392157 0.00196078 0.00392157 0.00392157 0.00196078\n",
      " 0.00392157 0.00196078 0.00196078 0.00392157 0.00196078 0.00196078\n",
      " 0.00196078 0.00392157 0.00392157 0.00196078 0.00196078 0.00392157\n",
      " 0.00392157 0.00392157 0.00392157 0.00196078 0.00196078 0.00392157\n",
      " 0.00196078 0.00196078 0.00392157 0.00392157 0.00196078 0.00392157\n",
      " 0.00392157 0.00392157 0.00196078 0.00196078 0.00392157 0.00196078\n",
      " 0.00392157 0.00196078 0.00392157 0.00196078 0.00392157 0.00196078\n",
      " 0.00196078 0.00392157 0.00196078 0.00196078 0.00196078 0.00392157\n",
      " 0.00196078 0.00392157 0.00392157 0.00196078 0.00196078 0.00196078\n",
      " 0.00392157 0.00196078 0.00392157 0.00392157 0.00196078 0.00196078\n",
      " 0.00196078 0.00196078 0.00196078 0.00392157 0.00196078 0.00196078\n",
      " 0.00392157 0.00196078 0.00392157 0.00196078 0.00392157 0.00392157\n",
      " 0.00392157 0.00196078 0.00196078 0.00392157 0.00196078 0.00392157\n",
      " 0.00392157 0.00196078 0.00196078 0.00196078 0.00392157 0.00392157\n",
      " 0.00196078 0.00196078 0.00392157 0.00392157 0.00196078 0.00196078\n",
      " 0.00196078 0.00392157 0.00392157 0.00196078 0.00392157 0.00196078\n",
      " 0.00196078 0.00196078 0.00392157 0.00392157 0.00196078 0.00196078\n",
      " 0.00196078 0.00392157 0.00392157 0.00196078 0.00392157 0.00196078\n",
      " 0.00196078 0.00392157 0.00392157 0.00392157 0.00196078 0.00196078\n",
      " 0.00196078 0.00196078 0.00196078 0.00392157 0.00392157 0.00196078\n",
      " 0.00196078 0.00392157 0.00392157 0.00196078 0.00392157 0.00392157\n",
      " 0.00196078 0.00196078 0.00196078 0.00392157 0.00392157 0.00392157\n",
      " 0.00392157 0.00392157 0.00392157 0.00196078 0.00196078 0.00196078\n",
      " 0.00392157 0.00392157 0.00392157 0.00392157 0.00196078 0.00392157\n",
      " 0.00196078 0.00196078 0.00196078 0.00196078 0.00392157 0.00392157\n",
      " 0.00392157 0.00196078 0.00392157 0.00392157 0.00392157 0.00196078\n",
      " 0.00196078 0.00196078 0.00392157 0.00392157 0.00392157 0.00392157\n",
      " 0.00392157 0.00392157 0.00392157 0.00196078 0.00392157 0.00392157\n",
      " 0.00196078 0.00196078 0.00392157 0.00392157 0.00196078 0.00392157\n",
      " 0.00392157 0.00196078 0.00196078 0.00392157 0.00392157 0.00392157\n",
      " 0.00392157 0.00196078 0.00196078 0.00392157 0.00196078 0.00392157\n",
      " 0.00196078 0.00196078 0.00196078 0.00392157 0.00392157 0.00392157\n",
      " 0.00392157 0.00392157 0.00196078 0.00196078 0.00196078 0.00196078\n",
      " 0.00196078 0.00196078 0.00392157 0.00392157 0.00196078 0.00196078\n",
      " 0.00392157 0.00196078 0.00392157 0.00196078 0.00196078 0.00196078\n",
      " 0.00392157 0.00392157 0.00196078 0.00196078 0.00392157 0.00392157\n",
      " 0.00392157 0.00196078 0.00392157 0.00392157 0.00392157 0.00392157\n",
      " 0.00392157 0.00196078 0.00196078 0.00196078 0.00196078 0.00392157\n",
      " 0.00196078 0.00392157 0.00196078 0.00392157 0.00392157 0.00196078\n",
      " 0.00196078 0.00392157 0.00196078 0.00392157 0.00196078 0.00196078\n",
      " 0.00196078 0.00392157 0.00392157 0.00196078 0.00196078 0.00392157\n",
      " 0.00392157 0.00392157 0.00392157 0.00392157 0.00392157 0.00392157\n",
      " 0.00196078 0.00392157 0.00392157 0.00392157 0.00392157 0.00196078\n",
      " 0.00196078 0.00196078 0.00392157 0.00392157 0.00196078 0.00196078\n",
      " 0.00392157 0.00196078 0.00196078 0.00196078 0.00392157 0.00196078\n",
      " 0.00196078 0.00392157 0.00196078 0.00196078]\n"
     ]
    }
   ],
   "source": [
    "classifier = DecisionTreeClassifier(max_depth=1, random_state=1)\n",
    "classifier.fit(X=train_set, y=train_labels)\n",
    "alphas = []\n",
    "classifiers = []\n",
    "for iteration in range(number_of_iterations):\n",
    "    model = train_model(classifier, weights)\n",
    "    weights = set_new_weights(model)\n",
    "    classifiers.append(model)\n",
    "\n",
    "print(weights)\n",
    "\n",
    "\n",
    "validate_x, validate_label = generate_data(1, dimension, labels)"
   ]
  },
  {
   "cell_type": "markdown",
   "metadata": {},
   "source": [
    "Set the validation data set:"
   ]
  },
  {
   "cell_type": "code",
   "execution_count": 107,
   "metadata": {},
   "outputs": [],
   "source": [
    "validate_x, validate_label = generate_data(1, dimension, labels)"
   ]
  },
  {
   "cell_type": "markdown",
   "metadata": {},
   "source": [
    "Fill the prediction code:"
   ]
  },
  {
   "cell_type": "code",
   "execution_count": 108,
   "metadata": {},
   "outputs": [],
   "source": [
    "def get_prediction(x):\n",
    "    predictions = [classifier.predict(x) for classifier in classifiers]\n",
    "    scores = [0, 0]\n",
    "    for prediction, weight in enumerate(predictions):\n",
    "        if prediction == 0:\n",
    "            scores[0] += weights[weight]\n",
    "        else:\n",
    "            scores[1] += weights[weight]\n",
    "    if scores[0] < scores[1]:\n",
    "        return 1\n",
    "    else:\n",
    "        return 0"
   ]
  },
  {
   "cell_type": "markdown",
   "metadata": {},
   "source": [
    "Test it:"
   ]
  },
  {
   "cell_type": "code",
   "execution_count": 109,
   "metadata": {},
   "outputs": [
    {
     "name": "stdout",
     "output_type": "stream",
     "text": [
      "1\n"
     ]
    }
   ],
   "source": [
    "prediction = get_prediction(validate_x) #[0]\n",
    "print(prediction)"
   ]
  }
 ],
 "metadata": {
  "kernelspec": {
   "display_name": "Python 3",
   "language": "python",
   "name": "python3"
  },
  "language_info": {
   "codemirror_mode": {
    "name": "ipython",
    "version": 3
   },
   "file_extension": ".py",
   "mimetype": "text/x-python",
   "name": "python",
   "nbconvert_exporter": "python",
   "pygments_lexer": "ipython3",
   "version": "3.6.9"
  }
 },
 "nbformat": 4,
 "nbformat_minor": 4
}