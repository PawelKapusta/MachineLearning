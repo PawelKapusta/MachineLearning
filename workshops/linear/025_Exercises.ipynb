{
 "cells": [
  {
   "cell_type": "markdown",
   "metadata": {},
   "source": [
    "# Exercises\n",
    "\n",
    "There are three exercises in this notebook:\n",
    "\n",
    "1. Use the cross-validation method to test the linear regression with different $\\alpha$ values, at least three.\n",
    "2. Implement a SGD method that will train the Lasso regression for 10 epochs.\n",
    "3. Extend the Fisher's classifier to work with two features. Use the class as the $y$."
   ]
  },
  {
   "cell_type": "markdown",
   "metadata": {},
   "source": [
    "## 1. Cross-validation linear regression\n",
    "\n",
    "You need to change the variable ``alpha`` to be a list of alphas. Next do a loop and finally compare the results."
   ]
  },
  {
   "cell_type": "code",
   "execution_count": 172,
   "metadata": {},
   "outputs": [
    {
     "data": {
      "text/plain": "              w1        w2\n-1.0   26.667097  0.442962\n-0.9   30.122934  0.423398\n-0.8   34.607973  0.398008\n-0.7   40.662425  0.363733\n-0.6   49.284735  0.314922\n-0.5   62.548230  0.239837\n-0.4   85.580223  0.109451\n-0.3  135.462841 -0.172936\n-0.2  324.767138 -1.244596\n-0.1 -817.017374  5.219094\n 0.0 -180.924018  1.618142\n 0.1 -101.723971  1.169788\n 0.2  -70.751422  0.994451\n 0.3  -54.237043  0.900962\n 0.4  -43.972861  0.842856\n 0.5  -36.975220  0.803242\n 0.6  -31.898837  0.774504\n 0.7  -28.047977  0.752704\n 0.8  -25.026648  0.735600\n 0.9  -22.592872  0.721822\n 1.0  -20.590447  0.710486",
      "text/html": "<div>\n<style scoped>\n    .dataframe tbody tr th:only-of-type {\n        vertical-align: middle;\n    }\n\n    .dataframe tbody tr th {\n        vertical-align: top;\n    }\n\n    .dataframe thead th {\n        text-align: right;\n    }\n</style>\n<table border=\"1\" class=\"dataframe\">\n  <thead>\n    <tr style=\"text-align: right;\">\n      <th></th>\n      <th>w1</th>\n      <th>w2</th>\n    </tr>\n  </thead>\n  <tbody>\n    <tr>\n      <th>-1.0</th>\n      <td>26.667097</td>\n      <td>0.442962</td>\n    </tr>\n    <tr>\n      <th>-0.9</th>\n      <td>30.122934</td>\n      <td>0.423398</td>\n    </tr>\n    <tr>\n      <th>-0.8</th>\n      <td>34.607973</td>\n      <td>0.398008</td>\n    </tr>\n    <tr>\n      <th>-0.7</th>\n      <td>40.662425</td>\n      <td>0.363733</td>\n    </tr>\n    <tr>\n      <th>-0.6</th>\n      <td>49.284735</td>\n      <td>0.314922</td>\n    </tr>\n    <tr>\n      <th>-0.5</th>\n      <td>62.548230</td>\n      <td>0.239837</td>\n    </tr>\n    <tr>\n      <th>-0.4</th>\n      <td>85.580223</td>\n      <td>0.109451</td>\n    </tr>\n    <tr>\n      <th>-0.3</th>\n      <td>135.462841</td>\n      <td>-0.172936</td>\n    </tr>\n    <tr>\n      <th>-0.2</th>\n      <td>324.767138</td>\n      <td>-1.244596</td>\n    </tr>\n    <tr>\n      <th>-0.1</th>\n      <td>-817.017374</td>\n      <td>5.219094</td>\n    </tr>\n    <tr>\n      <th>0.0</th>\n      <td>-180.924018</td>\n      <td>1.618142</td>\n    </tr>\n    <tr>\n      <th>0.1</th>\n      <td>-101.723971</td>\n      <td>1.169788</td>\n    </tr>\n    <tr>\n      <th>0.2</th>\n      <td>-70.751422</td>\n      <td>0.994451</td>\n    </tr>\n    <tr>\n      <th>0.3</th>\n      <td>-54.237043</td>\n      <td>0.900962</td>\n    </tr>\n    <tr>\n      <th>0.4</th>\n      <td>-43.972861</td>\n      <td>0.842856</td>\n    </tr>\n    <tr>\n      <th>0.5</th>\n      <td>-36.975220</td>\n      <td>0.803242</td>\n    </tr>\n    <tr>\n      <th>0.6</th>\n      <td>-31.898837</td>\n      <td>0.774504</td>\n    </tr>\n    <tr>\n      <th>0.7</th>\n      <td>-28.047977</td>\n      <td>0.752704</td>\n    </tr>\n    <tr>\n      <th>0.8</th>\n      <td>-25.026648</td>\n      <td>0.735600</td>\n    </tr>\n    <tr>\n      <th>0.9</th>\n      <td>-22.592872</td>\n      <td>0.721822</td>\n    </tr>\n    <tr>\n      <th>1.0</th>\n      <td>-20.590447</td>\n      <td>0.710486</td>\n    </tr>\n  </tbody>\n</table>\n</div>"
     },
     "execution_count": 172,
     "metadata": {},
     "output_type": "execute_result"
    }
   ],
   "source": [
    "import numpy as np\n",
    "import pandas as pd\n",
    "\n",
    "x = np.array([188, 181, 197, 168, 167, 187, 178, 194, 140, 176, 168, 192, 173, 142, 176]).reshape(-1, 1).reshape(15,1)\n",
    "y = np.array([141, 106, 149, 59, 79, 136, 65, 136, 52, 87, 115, 140, 82, 69, 121]).reshape(-1, 1).reshape(15,1)\n",
    "\n",
    "x = np.asmatrix(np.c_[np.ones((15,1)),x])\n",
    "\n",
    "# print(\"x.size\",x.size)\n",
    "# print(\"x.shape\",x.shape)\n",
    "I = np.identity(2)\n",
    "alpha = {}  #0.1 # change here\n",
    "\n",
    "for value in range(-10, 11):\n",
    "    alpha[round(value * 0.1, 1)] = []\n",
    "\n",
    "# add 1-3 line of code here\n",
    "for key, value in alpha.items():\n",
    "    w = np.linalg.inv(x.T*x + key * I)*x.T*y\n",
    "    w=w.ravel()\n",
    "    alpha[key].append(w)\n",
    "\n",
    "# add 1-3 lines to compare the results\n",
    "prepared_results = np.asarray(list(alpha.values()))\n",
    "prepared_results = prepared_results.flatten()\n",
    "prepared_results = prepared_results.reshape(21, 2)\n",
    "final_result = pd.DataFrame(data=prepared_results, index=alpha.keys(), columns=[\"w1\", \"w2\"])\n",
    "final_result\n"
   ]
  },
  {
   "cell_type": "markdown",
   "metadata": {},
   "source": [
    "## 2. Implement based on the Ridge regression example, the Lasso regression.\n",
    "\n",
    "Please implement the SGD method and compare the results with the sklearn Lasso regression results. "
   ]
  },
  {
   "cell_type": "code",
   "execution_count": 173,
   "metadata": {},
   "outputs": [],
   "source": [
    "import numpy as np\n",
    "\n",
    "MAX_ITERATIONS = 700\n",
    "\n",
    "def sgd(x, y, alpha):\n",
    "    # your code goes here\n",
    "    normalized = np.linalg.norm(x, axis=0)\n",
    "    counter = 0\n",
    "    w = 1\n",
    "    b = 1\n",
    "\n",
    "    while counter < MAX_ITERATIONS:\n",
    "        x_res = x[:, 1].reshape(-1, 1)\n",
    "        y_pre = x_res * w + b\n",
    "        delta = y - y_pre\n",
    "\n",
    "        if w <= 0:\n",
    "            dW = (-x_res.T.dot(delta) * 2 - alpha ) / (normalized[1] * normalized[1])\n",
    "        else:\n",
    "            dW = (-x_res.T.dot(delta) * 2 + alpha ) / (normalized[1] * normalized[1])\n",
    "\n",
    "        db= (-np.sum(y - y_pre) * 2) / (normalized[0] * normalized[0])\n",
    "\n",
    "        w = w - alpha * dW\n",
    "        b = b - alpha * db\n",
    "\n",
    "        counter += 1\n",
    "\n",
    "    return np.array([b, w.item(0)])"
   ]
  },
  {
   "cell_type": "code",
   "execution_count": 174,
   "metadata": {},
   "outputs": [
    {
     "data": {
      "text/plain": "                b         w\nsgd   -101.244801  1.165131\nlasso -101.723971  1.169788",
      "text/html": "<div>\n<style scoped>\n    .dataframe tbody tr th:only-of-type {\n        vertical-align: middle;\n    }\n\n    .dataframe tbody tr th {\n        vertical-align: top;\n    }\n\n    .dataframe thead th {\n        text-align: right;\n    }\n</style>\n<table border=\"1\" class=\"dataframe\">\n  <thead>\n    <tr style=\"text-align: right;\">\n      <th></th>\n      <th>b</th>\n      <th>w</th>\n    </tr>\n  </thead>\n  <tbody>\n    <tr>\n      <th>sgd</th>\n      <td>-101.244801</td>\n      <td>1.165131</td>\n    </tr>\n    <tr>\n      <th>lasso</th>\n      <td>-101.723971</td>\n      <td>1.169788</td>\n    </tr>\n  </tbody>\n</table>\n</div>"
     },
     "execution_count": 174,
     "metadata": {},
     "output_type": "execute_result"
    }
   ],
   "source": [
    "x = np.array([188, 181, 197, 168, 167, 187, 178, 194, 140, 176, 168, 192, 173, 142, 176]).reshape(-1, 1).reshape(15,1)\n",
    "y = np.array([141, 106, 149, 59, 79, 136, 65, 136, 52, 87, 115, 140, 82, 69, 121]).reshape(-1, 1).reshape(15,1)\n",
    "\n",
    "x = np.asmatrix(np.c_[np.ones((15,1)),x])\n",
    "\n",
    "I = np.identity(2)\n",
    "alpha = 0.1 \n",
    "# update this line\n",
    "sgd= sgd(x, y, alpha).ravel()\n",
    "lasso = (np.linalg.inv(x.T*x + alpha * I)*x.T*y).ravel()\n",
    "results = np.asarray([sgd[0], sgd[1], lasso.item(0), lasso.item(1)]).flatten().reshape(2, 2)\n",
    "returned = pd.DataFrame(data=results, index=['sgd', 'lasso'], columns=[\"b\", \"w\"])\n",
    "returned.head()\n"
   ]
  },
  {
   "cell_type": "markdown",
   "metadata": {},
   "source": [
    "## 3. Extend the Fisher's classifier\n",
    "\n",
    "Please extend the targets of the ``iris_data`` variable and use it as the $y$."
   ]
  },
  {
   "cell_type": "code",
   "execution_count": 175,
   "metadata": {},
   "outputs": [
    {
     "data": {
      "text/plain": "        first    second\n0    0.813219  1.127687\n1    0.714948  1.088379\n2    0.754257  1.049070\n3    0.734602  1.029416\n4    0.832873  1.108033\n..        ...       ...\n145  0.714948  1.442155\n146  0.616677  1.363538\n147  0.714948  1.402846\n148  0.793565  1.343884\n149  0.714948  1.284921\n\n[150 rows x 2 columns]",
      "text/html": "<div>\n<style scoped>\n    .dataframe tbody tr th:only-of-type {\n        vertical-align: middle;\n    }\n\n    .dataframe tbody tr th {\n        vertical-align: top;\n    }\n\n    .dataframe thead th {\n        text-align: right;\n    }\n</style>\n<table border=\"1\" class=\"dataframe\">\n  <thead>\n    <tr style=\"text-align: right;\">\n      <th></th>\n      <th>first</th>\n      <th>second</th>\n    </tr>\n  </thead>\n  <tbody>\n    <tr>\n      <th>0</th>\n      <td>0.813219</td>\n      <td>1.127687</td>\n    </tr>\n    <tr>\n      <th>1</th>\n      <td>0.714948</td>\n      <td>1.088379</td>\n    </tr>\n    <tr>\n      <th>2</th>\n      <td>0.754257</td>\n      <td>1.049070</td>\n    </tr>\n    <tr>\n      <th>3</th>\n      <td>0.734602</td>\n      <td>1.029416</td>\n    </tr>\n    <tr>\n      <th>4</th>\n      <td>0.832873</td>\n      <td>1.108033</td>\n    </tr>\n    <tr>\n      <th>...</th>\n      <td>...</td>\n      <td>...</td>\n    </tr>\n    <tr>\n      <th>145</th>\n      <td>0.714948</td>\n      <td>1.442155</td>\n    </tr>\n    <tr>\n      <th>146</th>\n      <td>0.616677</td>\n      <td>1.363538</td>\n    </tr>\n    <tr>\n      <th>147</th>\n      <td>0.714948</td>\n      <td>1.402846</td>\n    </tr>\n    <tr>\n      <th>148</th>\n      <td>0.793565</td>\n      <td>1.343884</td>\n    </tr>\n    <tr>\n      <th>149</th>\n      <td>0.714948</td>\n      <td>1.284921</td>\n    </tr>\n  </tbody>\n</table>\n<p>150 rows × 2 columns</p>\n</div>"
     },
     "execution_count": 175,
     "metadata": {},
     "output_type": "execute_result"
    }
   ],
   "source": [
    "import pandas as pd\n",
    "import numpy as np\n",
    "import matplotlib.pyplot as plt\n",
    "from sklearn.datasets import load_iris\n",
    "\n",
    "iris_data = load_iris()\n",
    "iris_df = pd.DataFrame(iris_data.data,columns=iris_data.feature_names)\n",
    "iris_df_target = pd.DataFrame(iris_data.target)\n",
    "\n",
    "x = iris_df[['sepal width (cm)', 'sepal length (cm)']].values\n",
    "y = iris_df_target.values\n",
    "data_size = np.size(y)\n",
    "\n",
    "m_x, m_y = np.mean(x), np.mean(y)\n",
    "SS_xx = np.sum(x * x) - data_size * m_x * m_x\n",
    "SS_xy = np.sum(y * x) - data_size * m_y * m_x\n",
    "a = SS_xy / SS_xx\n",
    "b = m_y - a * m_x\n",
    "y_pred = a * x + b\n",
    "\n",
    "results = np.asarray(y_pred).flatten().reshape(150, 2)\n",
    "returned = pd.DataFrame(data=results, columns=[\"first\", \"second\"])\n",
    "returned"
   ]
  }
 ],
 "metadata": {
  "kernelspec": {
   "display_name": "Python 3",
   "language": "python",
   "name": "python3"
  },
  "language_info": {
   "codemirror_mode": {
    "name": "ipython",
    "version": 3
   },
   "file_extension": ".py",
   "mimetype": "text/x-python",
   "name": "python",
   "nbconvert_exporter": "python",
   "pygments_lexer": "ipython3",
   "version": "3.6.9"
  }
 },
 "nbformat": 4,
 "nbformat_minor": 4
}